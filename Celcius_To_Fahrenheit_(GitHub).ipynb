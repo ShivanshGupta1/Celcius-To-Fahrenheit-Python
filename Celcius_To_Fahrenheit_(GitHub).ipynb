{
  "nbformat": 4,
  "nbformat_minor": 0,
  "metadata": {
    "colab": {
      "name": "Celcius To Fahrenheit (GitHub).ipynb",
      "provenance": [],
      "authorship_tag": "ABX9TyNCn0rf4e/p7IXHeDiTGY16",
      "include_colab_link": true
    },
    "kernelspec": {
      "name": "python3",
      "display_name": "Python 3"
    }
  },
  "cells": [
    {
      "cell_type": "markdown",
      "metadata": {
        "id": "view-in-github",
        "colab_type": "text"
      },
      "source": [
        "<a href=\"https://colab.research.google.com/github/ShivanshGupta1/Celcius-To-Fahrenheit-Python/blob/main/Celcius_To_Fahrenheit_(GitHub).ipynb\" target=\"_parent\"><img src=\"https://colab.research.google.com/assets/colab-badge.svg\" alt=\"Open In Colab\"/></a>"
      ]
    },
    {
      "cell_type": "code",
      "metadata": {
        "id": "_t99aQZayEKg"
      },
      "source": [
        "d = int(input('What is the temperature: '))\n",
        "b = input('What do you want to convert to (Celsius/Fahrenheit')\n",
        "if b=='Celsius':\n",
        "  print(59*(d-32))\n",
        "elif b=='celsius':\n",
        "  print(59*(d-32))\n",
        "elif b=='Fahrenheit':\n",
        "  print(9/5*d+32)\n",
        "elif b=='fahrenheit':\n",
        "  print(9/5*d+32)\n",
        "else:\n",
        "  print('Please enter a correct number of unit of temperature')\n"
      ],
      "execution_count": null,
      "outputs": []
    }
  ]
}